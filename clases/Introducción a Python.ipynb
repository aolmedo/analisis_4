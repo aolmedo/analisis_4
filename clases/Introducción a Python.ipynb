{
 "metadata": {
  "name": ""
 },
 "nbformat": 3,
 "nbformat_minor": 0,
 "worksheets": [
  {
   "cells": [
    {
     "cell_type": "heading",
     "level": 1,
     "metadata": {},
     "source": [
      "Introducci\u00f3n a Python"
     ]
    },
    {
     "cell_type": "heading",
     "level": 3,
     "metadata": {},
     "source": [
      "Tipos b\u00e1sicos"
     ]
    },
    {
     "cell_type": "code",
     "collapsed": false,
     "input": [
      "anInteger = 3\n",
      "aFloat = 3.2\n",
      "aComplex = 3 + 5j\n",
      "print type(aComplex)"
     ],
     "language": "python",
     "metadata": {},
     "outputs": [
      {
       "output_type": "stream",
       "stream": "stdout",
       "text": [
        "<type 'complex'>\n"
       ]
      }
     ],
     "prompt_number": 3
    },
    {
     "cell_type": "code",
     "collapsed": false,
     "input": [
      "s = 'Hola Mundo!'\n",
      "d = \"Hola Mundo!\"\n",
      "f = \"\"\"Hola Mundo!\"\"\""
     ],
     "language": "python",
     "metadata": {},
     "outputs": []
    },
    {
     "cell_type": "code",
     "collapsed": false,
     "input": [
      "verdadero = True\n",
      "falso = False"
     ],
     "language": "python",
     "metadata": {},
     "outputs": [],
     "prompt_number": 6
    },
    {
     "cell_type": "code",
     "collapsed": false,
     "input": [
      "nulo = None"
     ],
     "language": "python",
     "metadata": {},
     "outputs": []
    },
    {
     "cell_type": "heading",
     "level": 3,
     "metadata": {},
     "source": [
      "Operadores"
     ]
    },
    {
     "cell_type": "heading",
     "level": 4,
     "metadata": {},
     "source": [
      "comparaci\u00f3n"
     ]
    },
    {
     "cell_type": "code",
     "collapsed": false,
     "input": [
      "print anInteger == 3\n",
      "print anInteger != 4\n",
      "print anInteger >= 1\n",
      "print anInteger > 1\n",
      "print anInteger <= 5\n",
      "print anInteger < 5"
     ],
     "language": "python",
     "metadata": {},
     "outputs": [
      {
       "output_type": "stream",
       "stream": "stdout",
       "text": [
        "True\n",
        "True\n",
        "True\n",
        "True\n",
        "True\n",
        "True\n"
       ]
      }
     ],
     "prompt_number": 4
    },
    {
     "cell_type": "heading",
     "level": 4,
     "metadata": {},
     "source": [
      "Booleanos"
     ]
    },
    {
     "cell_type": "code",
     "collapsed": false,
     "input": [
      "print verdadero and verdadero\n",
      "print verdadero and falso\n",
      "print verdadero or falso\n",
      "print falso or falso\n",
      "print not falso\n",
      "print not verdadero"
     ],
     "language": "python",
     "metadata": {},
     "outputs": [
      {
       "output_type": "stream",
       "stream": "stdout",
       "text": [
        "True\n",
        "False\n",
        "True\n",
        "False\n",
        "True\n",
        "False\n"
       ]
      }
     ],
     "prompt_number": 7
    },
    {
     "cell_type": "heading",
     "level": 4,
     "metadata": {},
     "source": [
      "Aritm\u00e9ticos"
     ]
    },
    {
     "cell_type": "code",
     "collapsed": false,
     "input": [
      "print anInteger + aFloat\n",
      "print aFloat - anInteger\n",
      "print anInteger * anInteger\n",
      "print anInteger / anInteger\n",
      "print anInteger % 2\n",
      "print anInteger % 3\n",
      "print anInteger ** 2\n",
      "print anInteger // 3"
     ],
     "language": "python",
     "metadata": {},
     "outputs": [
      {
       "output_type": "stream",
       "stream": "stdout",
       "text": [
        "6.2\n",
        "0.2\n",
        "9\n",
        "1\n",
        "1\n",
        "0\n",
        "9\n",
        "1\n"
       ]
      }
     ],
     "prompt_number": 8
    },
    {
     "cell_type": "heading",
     "level": 4,
     "metadata": {},
     "source": [
      "Asignaci\u00f3n"
     ]
    },
    {
     "cell_type": "code",
     "collapsed": false,
     "input": [
      "anInt = 3\n",
      "anInt += 2\n",
      "anInt -= 1\n",
      "anInt *= 2\n",
      "anInt /= 2\n",
      "anInt %= 2\n",
      "anInt **= 3\n",
      "anInt //= 3\n",
      "print \"El resultado es: %s\" % anInt\n",
      "print \"El resultado es:\", anInt\n",
      "print \"El resultado es: \" + str(anInt)"
     ],
     "language": "python",
     "metadata": {},
     "outputs": []
    },
    {
     "cell_type": "heading",
     "level": 4,
     "metadata": {},
     "source": [
      "Pertenencia"
     ]
    },
    {
     "cell_type": "code",
     "collapsed": false,
     "input": [
      "print 1 in [1, 2, 3]\n",
      "print 2 not in [1, 3, 5]"
     ],
     "language": "python",
     "metadata": {},
     "outputs": []
    },
    {
     "cell_type": "heading",
     "level": 4,
     "metadata": {},
     "source": [
      "Identidad"
     ]
    },
    {
     "cell_type": "code",
     "collapsed": false,
     "input": [
      "print 1 is 1\n",
      "print not 2 is 3\n",
      "print None is None\n",
      "print 1 is None"
     ],
     "language": "python",
     "metadata": {},
     "outputs": []
    },
    {
     "cell_type": "heading",
     "level": 4,
     "metadata": {},
     "source": [
      "Operadores a nivel de bits"
     ]
    },
    {
     "cell_type": "code",
     "collapsed": false,
     "input": [
      "print 1 & 1\n",
      "print 1 & 2\n",
      "print True & False\n",
      "print 1 | 1\n",
      "print 1 | 2\n",
      "print True | False\n",
      "print 2 ^ 2\n",
      "print ~3\n",
      "print ~False\n",
      "print 2 >> 3\n",
      "print 2 << 3"
     ],
     "language": "python",
     "metadata": {},
     "outputs": []
    },
    {
     "cell_type": "heading",
     "level": 3,
     "metadata": {},
     "source": [
      "Tipos de datos"
     ]
    },
    {
     "cell_type": "heading",
     "level": 4,
     "metadata": {},
     "source": [
      "Tuplas"
     ]
    },
    {
     "cell_type": "code",
     "collapsed": false,
     "input": [
      "tupla = (1, 2, 3)\n",
      "print tupla"
     ],
     "language": "python",
     "metadata": {},
     "outputs": []
    },
    {
     "cell_type": "heading",
     "level": 4,
     "metadata": {},
     "source": [
      "Listas"
     ]
    },
    {
     "cell_type": "code",
     "collapsed": false,
     "input": [
      "lista = [1, 2, 3]\n",
      "print lista"
     ],
     "language": "python",
     "metadata": {},
     "outputs": []
    },
    {
     "cell_type": "heading",
     "level": 4,
     "metadata": {},
     "source": [
      "Diccionarios"
     ]
    },
    {
     "cell_type": "code",
     "collapsed": false,
     "input": [
      "diccionario = {'uno': 1, 'dos': 2, 'tres': 3}\n",
      "print diccionario"
     ],
     "language": "python",
     "metadata": {},
     "outputs": []
    },
    {
     "cell_type": "heading",
     "level": 4,
     "metadata": {},
     "source": [
      "Conjuntos"
     ]
    },
    {
     "cell_type": "code",
     "collapsed": false,
     "input": [
      "conjunto = set([1, 2, 3, 1])\n",
      "print conjunto\n",
      "print conjunto"
     ],
     "language": "python",
     "metadata": {},
     "outputs": [
      {
       "output_type": "stream",
       "stream": "stdout",
       "text": [
        "set([1, 2, 3])\n",
        "set([1, 2, 3])\n"
       ]
      }
     ],
     "prompt_number": 9
    },
    {
     "cell_type": "heading",
     "level": 3,
     "metadata": {},
     "source": [
      "Control de Flujo"
     ]
    },
    {
     "cell_type": "heading",
     "level": 4,
     "metadata": {},
     "source": [
      "Condicionales"
     ]
    },
    {
     "cell_type": "code",
     "collapsed": false,
     "input": [
      "n = 3\n",
      "if n > 0:\n",
      "    n -= 1\n",
      "\n",
      "# otra forma\n",
      "n = 2\n",
      "if n % 2 == 0:\n",
      "    print \"El n\u00famero %s es par\" % n\n",
      "else:\n",
      "    print \"El n\u00famero %s es impar\" % n\n",
      "\n",
      "# otra forma\n",
      "if n == 1:\n",
      "    print \"El n\u00famero es uno\"\n",
      "elif n == 2:\n",
      "    \"El n\u00famero es dos\"\n",
      "elif n == 3:\n",
      "    \"El n\u00famero es tres\"\n",
      "else:\n",
      "    print \"El n\u00famero es mayor a tres\"\n",
      "    \n",
      "#otra forma\n",
      "print 'El n\u00famero es par' if n % 2 == 0 else 'El n\u00famero es impar'"
     ],
     "language": "python",
     "metadata": {},
     "outputs": []
    },
    {
     "cell_type": "heading",
     "level": 4,
     "metadata": {},
     "source": [
      "Ciclos"
     ]
    },
    {
     "cell_type": "code",
     "collapsed": false,
     "input": [
      "nuevaLista = []\n",
      "for e in lista:\n",
      "    nuevaLista.append(e + 1)\n",
      "print nuevaLista\n",
      "\n",
      "n = 9\n",
      "nuevaLista = []\n",
      "while n > 0:\n",
      "    nuevaLista.append(n)\n",
      "    n -= 1\n",
      "print nuevaLista\n",
      "\n",
      "a='a'\n",
      "a+2"
     ],
     "language": "python",
     "metadata": {},
     "outputs": [
      {
       "ename": "NameError",
       "evalue": "name 'lista' is not defined",
       "output_type": "pyerr",
       "traceback": [
        "\u001b[0;31m---------------------------------------------------------------------------\u001b[0m\n\u001b[0;31mNameError\u001b[0m                                 Traceback (most recent call last)",
        "\u001b[0;32m<ipython-input-10-d7bc105f5440>\u001b[0m in \u001b[0;36m<module>\u001b[0;34m()\u001b[0m\n\u001b[1;32m      1\u001b[0m \u001b[0mnuevaLista\u001b[0m \u001b[0;34m=\u001b[0m \u001b[0;34m[\u001b[0m\u001b[0;34m]\u001b[0m\u001b[0;34m\u001b[0m\u001b[0m\n\u001b[0;32m----> 2\u001b[0;31m \u001b[0;32mfor\u001b[0m \u001b[0me\u001b[0m \u001b[0;32min\u001b[0m \u001b[0mlista\u001b[0m\u001b[0;34m:\u001b[0m\u001b[0;34m\u001b[0m\u001b[0m\n\u001b[0m\u001b[1;32m      3\u001b[0m     \u001b[0mnuevaLista\u001b[0m\u001b[0;34m.\u001b[0m\u001b[0mappend\u001b[0m\u001b[0;34m(\u001b[0m\u001b[0me\u001b[0m \u001b[0;34m+\u001b[0m \u001b[0;36m1\u001b[0m\u001b[0;34m)\u001b[0m\u001b[0;34m\u001b[0m\u001b[0m\n\u001b[1;32m      4\u001b[0m \u001b[0;32mprint\u001b[0m \u001b[0mnuevaLista\u001b[0m\u001b[0;34m\u001b[0m\u001b[0m\n\u001b[1;32m      5\u001b[0m \u001b[0;34m\u001b[0m\u001b[0m\n",
        "\u001b[0;31mNameError\u001b[0m: name 'lista' is not defined"
       ]
      }
     ],
     "prompt_number": 10
    },
    {
     "cell_type": "code",
     "collapsed": false,
     "input": [
      "l = range(2,10,2)\n",
      "print l"
     ],
     "language": "python",
     "metadata": {},
     "outputs": [
      {
       "output_type": "stream",
       "stream": "stdout",
       "text": [
        "[2, 4, 6, 8]\n"
       ]
      }
     ],
     "prompt_number": 19
    },
    {
     "cell_type": "heading",
     "level": 2,
     "metadata": {},
     "source": [
      "1. Ejercicios"
     ]
    },
    {
     "cell_type": "heading",
     "level": 3,
     "metadata": {},
     "source": [
      "Ejercicio 1.1"
     ]
    },
    {
     "cell_type": "heading",
     "level": 4,
     "metadata": {},
     "source": [
      "Escribir un programa que reciba tres n\u00fameros, a trav\u00e9s de la entrada est\u00e1ndar, y devuelva el mayor."
     ]
    },
    {
     "cell_type": "code",
     "collapsed": false,
     "input": [
      "a =raw_input('ingrese un numero')\n",
      "b=raw_input('ingrese un numero')\n",
      "c= raw_input('ingrese un numero')\n",
      "\n",
      "\n"
     ],
     "language": "python",
     "metadata": {},
     "outputs": [
      {
       "name": "stdout",
       "output_type": "stream",
       "stream": "stdout",
       "text": [
        "ingrese un numero2\n"
       ]
      },
      {
       "name": "stdout",
       "output_type": "stream",
       "stream": "stdout",
       "text": [
        "ingrese un numero3\n"
       ]
      },
      {
       "name": "stdout",
       "output_type": "stream",
       "stream": "stdout",
       "text": [
        "ingrese un numero5\n"
       ]
      }
     ],
     "prompt_number": 22
    },
    {
     "cell_type": "code",
     "collapsed": false,
     "input": [
      "print a\n",
      "print b\n",
      "print c\n",
      "\n",
      "if a > b:\n",
      "    if a > c:\n",
      "        maxi = a\n",
      "    else:\n",
      "        maxi =c\n",
      "else:\n",
      "    if b > c:\n",
      "        maxi = b\n",
      "    else:\n",
      "        maxi =c\n",
      "print maxi"
     ],
     "language": "python",
     "metadata": {},
     "outputs": [
      {
       "output_type": "stream",
       "stream": "stdout",
       "text": [
        "2\n",
        "3\n",
        "5\n",
        "5\n"
       ]
      }
     ],
     "prompt_number": 25
    },
    {
     "cell_type": "heading",
     "level": 3,
     "metadata": {},
     "source": [
      "Ejercicio 1.2"
     ]
    },
    {
     "cell_type": "heading",
     "level": 4,
     "metadata": {},
     "source": [
      "Escribir un programa que reciba un n\u00famero, a trav\u00e9s de la entrada est\u00e1ndar, y que devuelva si el mismo es primo."
     ]
    },
    {
     "cell_type": "code",
     "collapsed": false,
     "input": [
      "def es_primo(numero):\n",
      "    \"\"\"Indica si un n\u00famero es primo\"\"\"\n",
      "    for div in range(2,numero):\n",
      "        if numero % div == 0:\n",
      "            return False\n",
      "    return True"
     ],
     "language": "python",
     "metadata": {},
     "outputs": [],
     "prompt_number": 26
    },
    {
     "cell_type": "code",
     "collapsed": false,
     "input": [
      "print es_primo(2)\n",
      "print es_primo(3)\n",
      "print es_primo(4)"
     ],
     "language": "python",
     "metadata": {},
     "outputs": [
      {
       "output_type": "stream",
       "stream": "stdout",
       "text": [
        "True\n",
        "True\n",
        "False\n"
       ]
      }
     ],
     "prompt_number": 28
    },
    {
     "cell_type": "code",
     "collapsed": false,
     "input": [],
     "language": "python",
     "metadata": {},
     "outputs": []
    }
   ],
   "metadata": {}
  }
 ]
}