{
 "metadata": {
  "name": ""
 },
 "nbformat": 3,
 "nbformat_minor": 0,
 "worksheets": [
  {
   "cells": [
    {
     "cell_type": "markdown",
     "metadata": {},
     "source": [
      "Documentaci\u00f3n de Python sobre Punto flotante:\n",
      "\n",
      "https://docs.python.org/2/tutorial/floatingpoint.html"
     ]
    },
    {
     "cell_type": "heading",
     "level": 1,
     "metadata": {},
     "source": [
      "Ejercicio 1"
     ]
    },
    {
     "cell_type": "markdown",
     "metadata": {},
     "source": [
      "lim x -> 0 1/x"
     ]
    },
    {
     "cell_type": "code",
     "collapsed": false,
     "input": [
      "for i in range(int(1e+2), int(1e+3)):\n",
      "    x = 1.0/i\n",
      "    print 1/x"
     ],
     "language": "python",
     "metadata": {},
     "outputs": []
    },
    {
     "cell_type": "markdown",
     "metadata": {},
     "source": [
      "lim x-> inf e^x"
     ]
    },
    {
     "cell_type": "code",
     "collapsed": false,
     "input": [
      "from math import exp\n",
      "for x in range(int(1e+1), int(1e+2)):\n",
      "    print exp(x)"
     ],
     "language": "python",
     "metadata": {},
     "outputs": []
    },
    {
     "cell_type": "markdown",
     "metadata": {},
     "source": [
      "lim x-> inf e^x"
     ]
    },
    {
     "cell_type": "code",
     "collapsed": false,
     "input": [
      "from math import exp\n",
      "for x in range(int(1e+1), int(1e+2)):\n",
      "    print exp(-x)"
     ],
     "language": "python",
     "metadata": {},
     "outputs": []
    },
    {
     "cell_type": "markdown",
     "metadata": {},
     "source": [
      "lim n -> inf (1 + 1/n)^n"
     ]
    },
    {
     "cell_type": "code",
     "collapsed": false,
     "input": [
      "from math import exp\n",
      "for i in range(1, 25):\n",
      "    n = int(eval('1e+%s'%i))\n",
      "    e_aprox = (1 + 1.0/n)**n\n",
      "    error = abs(exp(1) - e_aprox)\n",
      "    print \"%s | %s | %s\" % (n, e_aprox, error)"
     ],
     "language": "python",
     "metadata": {},
     "outputs": [
      {
       "output_type": "stream",
       "stream": "stdout",
       "text": [
        "10 | 2.5937424601 | 0.124539368359\n",
        "100 | 2.70481382942 | 0.0134679990375\n",
        "1000 | 2.71692393224 | 0.00135789622345\n",
        "10000 | 2.71814592682 | 0.00013590163412\n",
        "100000 | 2.71826823719 | 1.35912667476e-05\n",
        "1000000 | 2.7182804691 | 1.35936329171e-06\n",
        "10000000 | 2.71828169413 | 1.3432696333e-07\n",
        "100000000 | 2.71828179835 | 3.01116873658e-08\n",
        "1000000000 | 2.71828205201 | 2.23552515166e-07\n",
        "10000000000 | 2.71828205323 | 2.24775742463e-07\n",
        "100000000000 | 2.71828205336 | 2.2489806506e-07\n",
        "1000000000000 | 2.71852349604 | 0.000241667578193\n",
        "10000000000000 | 2.71611003409 | 0.00217179437214\n",
        "100000000000000 | 2.71611003409 | 0.00217179437202\n",
        "1000000000000000 | 3.03503520655 | 0.31675337809\n",
        "10000000000000000 | 1.0 | 1.71828182846\n",
        "100000000000000000 | 1.0 | 1.71828182846\n",
        "1000000000000000000 | 1.0 | 1.71828182846\n",
        "10000000000000000000 | 1.0 | 1.71828182846\n",
        "100000000000000000000 | 1.0 | 1.71828182846\n",
        "1000000000000000000000 | 1.0 | 1.71828182846\n",
        "10000000000000000000000 | 1.0 | 1.71828182846\n",
        "99999999999999991611392 | 1.0 | 1.71828182846\n",
        "999999999999999983222784 | 1.0 | 1.71828182846\n"
       ]
      }
     ],
     "prompt_number": 7
    },
    {
     "cell_type": "code",
     "collapsed": false,
     "input": [],
     "language": "python",
     "metadata": {},
     "outputs": []
    }
   ],
   "metadata": {}
  }
 ]
}