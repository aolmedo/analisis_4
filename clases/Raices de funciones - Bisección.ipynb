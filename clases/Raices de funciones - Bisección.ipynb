{
 "cells": [
  {
   "cell_type": "markdown",
   "metadata": {},
   "source": [
    "# Ayuda de Python"
   ]
  },
  {
   "cell_type": "code",
   "execution_count": null,
   "metadata": {
    "collapsed": false
   },
   "outputs": [],
   "source": [
    "import math\n",
    "help(math)"
   ]
  },
  {
   "cell_type": "markdown",
   "metadata": {},
   "source": [
    "# Medir el tiempo que tarda un algoritmo"
   ]
  },
  {
   "cell_type": "code",
   "execution_count": 12,
   "metadata": {
    "collapsed": false
   },
   "outputs": [
    {
     "name": "stdout",
     "output_type": "stream",
     "text": [
      "5.00534105301\n"
     ]
    }
   ],
   "source": [
    "import time\n",
    "t_0 = time.time()\n",
    "time.sleep(5)  # Código que quiero medir el tiempo que demora.\n",
    "t_1 = time.time()\n",
    "e_time = t_1 - t_0\n",
    "print e_time"
   ]
  },
  {
   "cell_type": "markdown",
   "metadata": {},
   "source": [
    "# Raices de funciones"
   ]
  },
  {
   "cell_type": "markdown",
   "metadata": {},
   "source": [
    "Encontrar visualmente la solucioón de esta ecuación\n",
    "\n",
    "** x + 0.5 + cos(x) = 0 **"
   ]
  },
  {
   "cell_type": "code",
   "execution_count": 15,
   "metadata": {
    "collapsed": false
   },
   "outputs": [
    {
     "data": {
      "text/plain": [
       "1.5"
      ]
     },
     "execution_count": 15,
     "metadata": {},
     "output_type": "execute_result"
    }
   ],
   "source": [
    "import math\n",
    "f = lambda x: x + 0.5 + math.cos(x)\n",
    "f(0)"
   ]
  },
  {
   "cell_type": "markdown",
   "metadata": {},
   "source": [
    "## Grafiquemos la función"
   ]
  },
  {
   "cell_type": "code",
   "execution_count": 18,
   "metadata": {
    "collapsed": false
   },
   "outputs": [],
   "source": [
    "import matplotlib.pyplot as plt\n",
    "import numpy as np\n",
    "\n",
    "x = np.linspace(-2, 2, 500)\n",
    "vf = np.vectorize(f)\n",
    "y = vf(x)\n",
    "\n",
    "plt.plot(x, y, label='x + 0.5 + cos(x)')\n",
    "\n",
    "plt.ylim([-3, 3])\n",
    "plt.legend()\n",
    "plt.grid(True)\n",
    "plt.show()"
   ]
  },
  {
   "cell_type": "markdown",
   "metadata": {},
   "source": [
    "![x + 0.5 + cos(x)](images/biseccion_1.png)"
   ]
  },
  {
   "cell_type": "markdown",
   "metadata": {},
   "source": [
    "# Bisección"
   ]
  },
  {
   "cell_type": "markdown",
   "metadata": {},
   "source": [
    "### Encontremos la raiz utilizando el algoritmo de bisección"
   ]
  },
  {
   "cell_type": "markdown",
   "metadata": {},
   "source": [
    "Hagamos la implementación del algoritmo en Python:\n",
    "\n",
    "raiz = biseccion(f, -2, 0, 0.000001)"
   ]
  },
  {
   "cell_type": "markdown",
   "metadata": {},
   "source": [
    "## Definición del método de bisección"
   ]
  },
  {
   "cell_type": "code",
   "execution_count": 13,
   "metadata": {
    "collapsed": true
   },
   "outputs": [],
   "source": [
    "# Implementación\n",
    "def biseccion(f, a, b, cota):\n",
    "    error = cota + 1    \n",
    "    p_ant = a \n",
    "    while error > cota:\n",
    "        p = (a + b) / 2.0\n",
    "        error = abs(p - p_ant)\n",
    "        p_ant = p\n",
    "        if f(a) * f(p) > 0:\n",
    "            a = p\n",
    "        elif f(b) * f(p) > 0:\n",
    "            b = p\n",
    "        else:\n",
    "            print \"test\"\n",
    "            return p\n",
    "    return p"
   ]
  },
  {
   "cell_type": "code",
   "execution_count": 16,
   "metadata": {
    "collapsed": false
   },
   "outputs": [
    {
     "name": "stdout",
     "output_type": "stream",
     "text": [
      "La raíz es: -1.0234375\n"
     ]
    }
   ],
   "source": [
    "raiz = biseccion(f, -2, 0, 0.01)\n",
    "print \"La raíz es: %s\" % raiz"
   ]
  },
  {
   "cell_type": "markdown",
   "metadata": {},
   "source": [
    "### Prueba con la función f(x) = x - exp(x)"
   ]
  },
  {
   "cell_type": "code",
   "execution_count": 3,
   "metadata": {
    "collapsed": false
   },
   "outputs": [],
   "source": [
    "import math\n",
    "fun = lambda x: x - math.exp(-x)"
   ]
  },
  {
   "cell_type": "markdown",
   "metadata": {},
   "source": [
    "#### Con Bisección"
   ]
  },
  {
   "cell_type": "code",
   "execution_count": 14,
   "metadata": {
    "collapsed": false
   },
   "outputs": [
    {
     "name": "stdout",
     "output_type": "stream",
     "text": [
      "0.56714329041\n"
     ]
    }
   ],
   "source": [
    "raiz = biseccion(fun, -2, 2, 0.00000000000001)\n",
    "print raiz"
   ]
  },
  {
   "cell_type": "markdown",
   "metadata": {},
   "source": [
    "#### Visualmente"
   ]
  },
  {
   "cell_type": "code",
   "execution_count": null,
   "metadata": {
    "collapsed": true
   },
   "outputs": [],
   "source": [
    "import matplotlib.pyplot as plt\n",
    "import numpy as np\n",
    "\n",
    "x = np.linspace(-1, 2, 500)\n",
    "vfun = np.vectorize(fun)\n",
    "y = vfun(x)\n",
    "\n",
    "plt.plot(x, y, label='x - e^x')\n",
    "\n",
    "plt.ylim([-3, 3])\n",
    "plt.legend()\n",
    "plt.grid(True)\n",
    "plt.show()"
   ]
  },
  {
   "cell_type": "markdown",
   "metadata": {},
   "source": [
    "![x - e^x](images/biseccion_2.png)"
   ]
  },
  {
   "cell_type": "code",
   "execution_count": 9,
   "metadata": {
    "collapsed": false
   },
   "outputs": [],
   "source": [
    "def biseccion(f, a, b, cota=0.001):\n",
    "    \"\"\"El metodo de biseccion\n",
    "    \"\"\"\n",
    "    error = 100  # damos a error un valor grande cualquiera\n",
    "    raiz = a  # iniciamos a la variable raiz en 0, esta será la variable retornada por el método.\n",
    "    while error > cota:\n",
    "        aux = raiz  # guardamos el último valor de raiz para luego calcular el error.\n",
    "        raiz = (a + b) / 2.0\n",
    "        fa = f(a)\n",
    "        fraiz = f(raiz)\n",
    "        test = fa * fraiz\n",
    "        if test < 0:\n",
    "            b = raiz\n",
    "            error = abs(raiz - aux)\n",
    "        elif test > 0:\n",
    "            a = raiz\n",
    "            error = abs(raiz - aux)\n",
    "        else:\n",
    "            error = 0  # Si el test da 0 significa que f(raiz) = 0 y se termina el ciclo\n",
    "    return raiz"
   ]
  },
  {
   "cell_type": "code",
   "execution_count": null,
   "metadata": {
    "collapsed": true
   },
   "outputs": [],
   "source": []
  }
 ],
 "metadata": {
  "kernelspec": {
   "display_name": "Python 2",
   "language": "python",
   "name": "python2"
  },
  "language_info": {
   "codemirror_mode": {
    "name": "ipython",
    "version": 2
   },
   "file_extension": ".py",
   "mimetype": "text/x-python",
   "name": "python",
   "nbconvert_exporter": "python",
   "pygments_lexer": "ipython2",
   "version": "2.7.6"
  }
 },
 "nbformat": 4,
 "nbformat_minor": 0
}
