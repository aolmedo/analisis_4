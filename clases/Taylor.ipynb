{
 "metadata": {
  "name": ""
 },
 "nbformat": 3,
 "nbformat_minor": 0,
 "worksheets": [
  {
   "cells": [
    {
     "cell_type": "markdown",
     "metadata": {},
     "source": [
      "Defino el polinomio de taylor de orden @orden para la funci\u00f3n seno"
     ]
    },
    {
     "cell_type": "code",
     "collapsed": false,
     "input": [
      "def mysin(x, order):\n",
      "    a = x\n",
      "    s = a\n",
      "    for i in range(1, order):\n",
      "        a *= -1 * x**2 / ((2 * i) * (2 * i + 1))\n",
      "        s += a\n",
      "    return s"
     ],
     "language": "python",
     "metadata": {},
     "outputs": [],
     "prompt_number": 1
    },
    {
     "cell_type": "markdown",
     "metadata": {},
     "source": [
      "Grafico la funci\u00f3n Seno y su polinomio"
     ]
    },
    {
     "cell_type": "code",
     "collapsed": false,
     "input": [
      "import numpy as np\n",
      "vmysin = np.vectorize(mysin, excluded=['order'])\n",
      "\n",
      "x = np.linspace(-80, 80, 500)\n",
      "y2 = vmysin(x, 3)\n",
      "y10 = vmysin(x, 10)\n",
      "y100 = vmysin(x, 100)\n",
      "y1000 = vmysin(x, 1000)\n",
      "y = np.sin(x)"
     ],
     "language": "python",
     "metadata": {},
     "outputs": [],
     "prompt_number": 2
    },
    {
     "cell_type": "code",
     "collapsed": false,
     "input": [
      "import matplotlib.pyplot as plt\n",
      "plt.plot(x, y, label='sin(x)')\n",
      "#plt.plot(x, y2, label='order 2')\n",
      "plt.plot(x, y10, label='order 10')\n",
      "#plt.plot(x, y100, label='order 100')\n",
      "#plt.plot(x, y1000, label='order 1000')\n",
      "plt.ylim([-3, 3])\n",
      "plt.legend()\n",
      "plt.show()"
     ],
     "language": "python",
     "metadata": {},
     "outputs": []
    },
    {
     "cell_type": "markdown",
     "metadata": {},
     "source": [
      "Defino el polinomio de taylor de orden @orden para la funci\u00f3n expornencial"
     ]
    },
    {
     "cell_type": "code",
     "collapsed": false,
     "input": [
      "import math\n",
      "def myexp(x, orden):\n",
      "  e=0\n",
      "  for i in range(0, orden):\n",
      "    e=e+(x**i)/math.factorial(i)\n",
      "  return e"
     ],
     "language": "python",
     "metadata": {},
     "outputs": [],
     "prompt_number": 3
    },
    {
     "cell_type": "markdown",
     "metadata": {},
     "source": [
      "Grafico la funci\u00f3n exponencial y su polinomio"
     ]
    },
    {
     "cell_type": "code",
     "collapsed": false,
     "input": [
      "import numpy as np\n",
      "vmye = np.vectorize(myexp, excluded=['order'])\n",
      "\n",
      "x = np.linspace(-5, 120, 500)\n",
      "y2 = vmye(x, 5)\n",
      "y10 = vmye(x, 10)\n",
      "y100 = vmye(x, 100)\n",
      "y = np.exp(x)"
     ],
     "language": "python",
     "metadata": {},
     "outputs": [],
     "prompt_number": 4
    },
    {
     "cell_type": "code",
     "collapsed": false,
     "input": [
      "import matplotlib.pyplot as plt\n",
      "plt.plot(x, y, label='exp(x)')\n",
      "plt.plot(x, y2, label='order 2')\n",
      "#plt.plot(x, y10, label='order 10')\n",
      "#plt.plot(x, y100, label='order 100')\n",
      "plt.ylim([-2, 20])\n",
      "plt.legend()\n",
      "plt.show()"
     ],
     "language": "python",
     "metadata": {},
     "outputs": []
    }
   ],
   "metadata": {}
  }
 ]
}